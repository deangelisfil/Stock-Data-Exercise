{
 "cells": [
  {
   "cell_type": "markdown",
   "metadata": {},
   "source": [
    "# SIG data exercise: stock price data"
   ]
  },
  {
   "cell_type": "markdown",
   "metadata": {},
   "source": [
    "1) Predict volatility for the next month given the samples\n",
    "\n",
    "2) Confidence in prediction\n",
    "\n",
    "Let's start with importing the data into a dataframe and just getting familiar with it"
   ]
  },
  {
   "cell_type": "code",
   "execution_count": 1,
   "metadata": {},
   "outputs": [],
   "source": [
    "import pandas as pd\n",
    "import matplotlib.pyplot as plt\n",
    "import numpy as np\n",
    "import scipy as sp\n",
    "import statsmodels as sm\n",
    "import seaborn as sns\n",
    "\n",
    "%matplotlib inline"
   ]
  },
  {
   "cell_type": "code",
   "execution_count": 2,
   "metadata": {},
   "outputs": [
    {
     "data": {
      "text/html": [
       "<div>\n",
       "<style>\n",
       "    .dataframe thead tr:only-child th {\n",
       "        text-align: right;\n",
       "    }\n",
       "\n",
       "    .dataframe thead th {\n",
       "        text-align: left;\n",
       "    }\n",
       "\n",
       "    .dataframe tbody tr th {\n",
       "        vertical-align: top;\n",
       "    }\n",
       "</style>\n",
       "<table border=\"1\" class=\"dataframe\">\n",
       "  <thead>\n",
       "    <tr style=\"text-align: right;\">\n",
       "      <th></th>\n",
       "      <th>day</th>\n",
       "      <th>a</th>\n",
       "      <th>b</th>\n",
       "      <th>c</th>\n",
       "      <th>d</th>\n",
       "      <th>e</th>\n",
       "      <th>f</th>\n",
       "    </tr>\n",
       "  </thead>\n",
       "  <tbody>\n",
       "    <tr>\n",
       "      <th>count</th>\n",
       "      <td>98352.00000</td>\n",
       "      <td>98281.000000</td>\n",
       "      <td>98352.000000</td>\n",
       "      <td>98322.000000</td>\n",
       "      <td>98334.000000</td>\n",
       "      <td>98352.000000</td>\n",
       "      <td>96981.000000</td>\n",
       "    </tr>\n",
       "    <tr>\n",
       "      <th>mean</th>\n",
       "      <td>181.29732</td>\n",
       "      <td>363.767737</td>\n",
       "      <td>10.048836</td>\n",
       "      <td>69.428375</td>\n",
       "      <td>49.803747</td>\n",
       "      <td>47.727738</td>\n",
       "      <td>13.204838</td>\n",
       "    </tr>\n",
       "    <tr>\n",
       "      <th>std</th>\n",
       "      <td>104.61705</td>\n",
       "      <td>28.281333</td>\n",
       "      <td>3.332643</td>\n",
       "      <td>28.670322</td>\n",
       "      <td>4.539923</td>\n",
       "      <td>7.053875</td>\n",
       "      <td>2.404705</td>\n",
       "    </tr>\n",
       "    <tr>\n",
       "      <th>min</th>\n",
       "      <td>1.00000</td>\n",
       "      <td>0.000000</td>\n",
       "      <td>4.885000</td>\n",
       "      <td>33.807000</td>\n",
       "      <td>1.000000</td>\n",
       "      <td>38.550000</td>\n",
       "      <td>9.365000</td>\n",
       "    </tr>\n",
       "    <tr>\n",
       "      <th>25%</th>\n",
       "      <td>89.00000</td>\n",
       "      <td>341.785000</td>\n",
       "      <td>6.605000</td>\n",
       "      <td>45.330750</td>\n",
       "      <td>46.175000</td>\n",
       "      <td>42.040000</td>\n",
       "      <td>10.945000</td>\n",
       "    </tr>\n",
       "    <tr>\n",
       "      <th>50%</th>\n",
       "      <td>180.00000</td>\n",
       "      <td>357.915000</td>\n",
       "      <td>10.595000</td>\n",
       "      <td>50.960000</td>\n",
       "      <td>50.105000</td>\n",
       "      <td>45.410000</td>\n",
       "      <td>13.325000</td>\n",
       "    </tr>\n",
       "    <tr>\n",
       "      <th>75%</th>\n",
       "      <td>271.00000</td>\n",
       "      <td>387.890000</td>\n",
       "      <td>13.465000</td>\n",
       "      <td>101.895000</td>\n",
       "      <td>53.735000</td>\n",
       "      <td>51.350000</td>\n",
       "      <td>15.035000</td>\n",
       "    </tr>\n",
       "    <tr>\n",
       "      <th>max</th>\n",
       "      <td>362.00000</td>\n",
       "      <td>426.560000</td>\n",
       "      <td>15.335000</td>\n",
       "      <td>116.385000</td>\n",
       "      <td>62.137000</td>\n",
       "      <td>69.210000</td>\n",
       "      <td>18.815000</td>\n",
       "    </tr>\n",
       "  </tbody>\n",
       "</table>\n",
       "</div>"
      ],
      "text/plain": [
       "               day             a             b             c             d  \\\n",
       "count  98352.00000  98281.000000  98352.000000  98322.000000  98334.000000   \n",
       "mean     181.29732    363.767737     10.048836     69.428375     49.803747   \n",
       "std      104.61705     28.281333      3.332643     28.670322      4.539923   \n",
       "min        1.00000      0.000000      4.885000     33.807000      1.000000   \n",
       "25%       89.00000    341.785000      6.605000     45.330750     46.175000   \n",
       "50%      180.00000    357.915000     10.595000     50.960000     50.105000   \n",
       "75%      271.00000    387.890000     13.465000    101.895000     53.735000   \n",
       "max      362.00000    426.560000     15.335000    116.385000     62.137000   \n",
       "\n",
       "                  e             f  \n",
       "count  98352.000000  96981.000000  \n",
       "mean      47.727738     13.204838  \n",
       "std        7.053875      2.404705  \n",
       "min       38.550000      9.365000  \n",
       "25%       42.040000     10.945000  \n",
       "50%       45.410000     13.325000  \n",
       "75%       51.350000     15.035000  \n",
       "max       69.210000     18.815000  "
      ]
     },
     "execution_count": 2,
     "metadata": {},
     "output_type": "execute_result"
    }
   ],
   "source": [
    "df=pd.read_csv('./stockdata2.csv')\n",
    "df.describe()"
   ]
  },
  {
   "cell_type": "markdown",
   "metadata": {},
   "source": [
    "So the data appears to be grouped by day. Doing a quick glance at the data, full days seem to have 391 entries (between 9:30AM to 4:00PM) while weekends and holidays are empty. Let's do a few preliminary plots to get a feeling."
   ]
  },
  {
   "cell_type": "code",
   "execution_count": 3,
   "metadata": {},
   "outputs": [
    {
     "data": {
      "text/plain": [
       "<matplotlib.axes._subplots.AxesSubplot at 0x1fb73af7240>"
      ]
     },
     "execution_count": 3,
     "metadata": {},
     "output_type": "execute_result"
    },
    {
     "data": {
      "image/png": "[encoded data removed]",
      "text/plain": [
       "<matplotlib.figure.Figure at 0x1fb70b62f28>"
      ]
     },
     "metadata": {},
     "output_type": "display_data"
    },
    {
     "data": {
      "image/png": "[encoded data removed]",
      "text/plain": [
       "<matplotlib.figure.Figure at 0x1fb714b7860>"
      ]
     },
     "metadata": {},
     "output_type": "display_data"
    },
    {
     "data": {
      "image/png": "[encoded data removed]",
      "text/plain": [
       "<matplotlib.figure.Figure at 0x1fb736edb38>"
      ]
     },
     "metadata": {},
     "output_type": "display_data"
    },
    {
     "data": {
      "image/png": "[encoded data removed]",
      "text/plain": [
       "<matplotlib.figure.Figure at 0x1fb736e7f28>"
      ]
     },
     "metadata": {},
     "output_type": "display_data"
    },
    {
     "data": {
      "image/png": "[encoded data removed]",
      "text/plain": [
       "<matplotlib.figure.Figure at 0x1fb736c5fd0>"
      ]
     },
     "metadata": {},
     "output_type": "display_data"
    },
    {
     "data": {
      "image/png": "[encoded data removed]",
      "text/plain": [
       "<matplotlib.figure.Figure at 0x1fb73af7a20>"
      ]
     },
     "metadata": {},
     "output_type": "display_data"
    }
   ],
   "source": [
    "df.plot(x=['day'],y=['a'],kind='scatter')\n",
    "df.plot(x='day',y='b',kind='scatter')\n",
    "df.plot(x='day',y='c',kind='scatter')\n",
    "df.plot(x='day',y='d',kind='scatter')\n",
    "df.plot(x='day',y='e',kind='scatter')\n",
    "df.plot(x='day',y='f',kind='scatter')"
   ]
  },
  {
   "cell_type": "markdown",
   "metadata": {},
   "source": [
    "A few things to note: a major price shock in $c$ which is otherwise relatively stable, and a small, short-term bubble in the price of $e$. The day-to-day volatility of $d$ seems large compared to its longer-term volatility. Prices of $f$ are very illiquid and don't seem to move much minute to minute or even day to day. We also note that there are a few cases where stock a and stock d seem to drop precipitously, let's examine that:"
   ]
  },
  {
   "cell_type": "code",
   "execution_count": 4,
   "metadata": {},
   "outputs": [
    {
     "name": "stdout",
     "output_type": "stream",
     "text": [
      "93\n",
      "93\n",
      "Mean number of days per month: 21.0\n",
      "Mean number of time points per day: 390.2857142857143\n",
      "Day 327 has 211 time points!\n",
      "       day   timestr        a      b       c       d      e      f\n",
      "88963  327  12:56:00  364.570  5.115  43.413  43.935  40.24  9.765\n",
      "88964  327  12:57:00  364.700  5.115  43.405  43.875  40.24  9.765\n",
      "88965  327  12:58:00  364.545  5.215  43.405  43.865  40.27  9.765\n",
      "88966  327  12:59:00  364.380  5.125  43.325  43.855  40.33  9.765\n",
      "88967  327  13:00:00  363.580  5.225  43.333  43.835  40.31  9.765\n"
     ]
    }
   ],
   "source": [
    "print(len(df[df['a']==0]))\n",
    "print(len(df[df['d']<10]))\n",
    "df[(df['a']==0) & (df['d']<10)]\n",
    "print(\"Mean number of days per month: \"+str(len(df['day'].unique())/12))\n",
    "print(\"Mean number of time points per day: \"+str(len(df)/(12*21)))\n",
    "for ii in df['day'].unique():\n",
    "    if(len(df[df['day']==ii])!=391):\n",
    "        print(\"Day \"+str(ii)+\" has \"+str(len(df[df['day']==ii]))+\" time points!\")\n",
    "        print(df[df['day']==ii].tail())\n"
   ]
  },
  {
   "cell_type": "markdown",
   "metadata": {},
   "source": [
    "The times of the dips in stock $a$ are sporadic, seemingly unrelated times, on different days, and also correspond to the dips in stock $d$. Likely these dips are due to recording errors, and as a result this data is best cleaned via setting to NaN, since we plan to use the rolling window functionality of pandas. We note that stocks $b$ and $e$ have no null entries, no spurious dips, and are fully represented in the data set. In addition, we note that the data is conveniently divided up into 21 days per month, but there seem to be a day (327) that doesn't have the full number of time points where trading stops at 1pm"
   ]
  },
  {
   "cell_type": "code",
   "execution_count": 5,
   "metadata": {},
   "outputs": [
    {
     "name": "stdout",
     "output_type": "stream",
     "text": [
      "a      71\n",
      "b       0\n",
      "c      30\n",
      "d      18\n",
      "e       0\n",
      "f    1371\n",
      "dtype: int64\n"
     ]
    }
   ],
   "source": [
    "print(pd.isnull(df[['a','b','c','d','e','f']]).sum())"
   ]
  },
  {
   "cell_type": "markdown",
   "metadata": {},
   "source": [
    "Let's now examine the nature of the null data in the other stocks on a daily basis and take a look at how many minutes out of each day does the data register as null:"
   ]
  },
  {
   "cell_type": "code",
   "execution_count": 6,
   "metadata": {},
   "outputs": [
    {
     "data": {
      "image/png": "[encoded data removed]",
      "text/plain": [
       "<matplotlib.figure.Figure at 0x1fb7426f1d0>"
      ]
     },
     "metadata": {},
     "output_type": "display_data"
    },
    {
     "data": {
      "image/png": "[encoded data removed]",
      "text/plain": [
       "<matplotlib.figure.Figure at 0x1fb70f0e8d0>"
      ]
     },
     "metadata": {},
     "output_type": "display_data"
    },
    {
     "data": {
      "image/png": "[encoded data removed]",
      "text/plain": [
       "<matplotlib.figure.Figure at 0x1fb70fa4b38>"
      ]
     },
     "metadata": {},
     "output_type": "display_data"
    },
    {
     "data": {
      "image/png": "[encoded data removed]",
      "text/plain": [
       "<matplotlib.figure.Figure at 0x1fb742609e8>"
      ]
     },
     "metadata": {},
     "output_type": "display_data"
    }
   ],
   "source": [
    "for ii in ['a','c','d','f']:\n",
    "    df[pd.isnull(df[ii])]['day'].hist(bins=362)\n",
    "    plt.show()"
   ]
  },
  {
   "cell_type": "markdown",
   "metadata": {},
   "source": [
    "Most days are only missing a few minutes in a day , with the exception of stock $f$, which has several days in which at least a third of the data in a day is sometimes missing. Although it is very reasonable to perform simple interpolations for individual missing minutes, drawing a curve through large chunks of missing data will artificially and significantly affect volatility inference for that day. However, in the case of $f$ pricing, movements are so slow that in many cases replacing NaN values may be reasonable. Let's do the simple cleaning first: replacing spurious values in $a$ and $d$ as missing"
   ]
  },
  {
   "cell_type": "code",
   "execution_count": 7,
   "metadata": {
    "collapsed": true
   },
   "outputs": [],
   "source": [
    "df_clean=df.copy() #copy base data into new dataframe\n",
    "#replace spurious prices -> missing\n",
    "df_clean['a']=df['a'].replace(0,np.nan);\n",
    "df_clean['d']=df['d'].replace(1.0,np.nan);"
   ]
  },
  {
   "cell_type": "markdown",
   "metadata": {},
   "source": [
    "After cleaning the data, we want to look at log prices since we are going to explore volatility on log returns."
   ]
  },
  {
   "cell_type": "code",
   "execution_count": 8,
   "metadata": {
    "collapsed": true
   },
   "outputs": [],
   "source": [
    "plist=list('abcdef')\n",
    "logdf=np.log(df_clean[plist])\n",
    "logdf['day']=df_clean['day'].copy()\n",
    "logdf['timestr']=df_clean['timestr'].copy()\n",
    "logdf=logdf[df_clean.columns.tolist()]"
   ]
  },
  {
   "cell_type": "code",
   "execution_count": 9,
   "metadata": {},
   "outputs": [
    {
     "data": {
      "text/plain": [
       "<matplotlib.axes._subplots.AxesSubplot at 0x1fb71bcccc0>"
      ]
     },
     "execution_count": 9,
     "metadata": {},
     "output_type": "execute_result"
    },
    {
     "data": {
      "image/png": "[encoded data removed]",
      "text/plain": [
       "<matplotlib.figure.Figure at 0x1fb736bf2b0>"
      ]
     },
     "metadata": {},
     "output_type": "display_data"
    }
   ],
   "source": [
    "#plot log prices \n",
    "logdf.loc[:,'a':'f'].plot()"
   ]
  },
  {
   "cell_type": "markdown",
   "metadata": {},
   "source": [
    "We see that the price of $d$ has high intra-day volatility despite having low monthly volatility. We consider a dataset that averages out the intra-day moves and see how it compares."
   ]
  },
  {
   "cell_type": "code",
   "execution_count": 10,
   "metadata": {
    "collapsed": true
   },
   "outputs": [],
   "source": [
    "dayseries=df_clean['day'].unique();\n",
    "logdf_day=pd.DataFrame({'day': dayseries,'a': dayseries,'b': dayseries,'c': dayseries,'d': dayseries,'e': dayseries,'f': dayseries})\n",
    "logdf_day=logdf_day[['day','a','b','c','d','e','f']]\n",
    "#creates daily averaged data\n",
    "for idx,ii in enumerate(logdf_day['day']):\n",
    "    logdf_day.iloc[idx,1:]=np.log(df_clean[df_clean['day']==ii].mean(axis=0))"
   ]
  },
  {
   "cell_type": "code",
   "execution_count": 11,
   "metadata": {},
   "outputs": [
    {
     "data": {
      "text/plain": [
       "<matplotlib.axes._subplots.AxesSubplot at 0x1fb7156d278>"
      ]
     },
     "execution_count": 11,
     "metadata": {},
     "output_type": "execute_result"
    },
    {
     "data": {
      "image/png": "[encoded data removed]",
      "text/plain": [
       "<matplotlib.figure.Figure at 0x1fb7157e630>"
      ]
     },
     "metadata": {},
     "output_type": "display_data"
    }
   ],
   "source": [
    "logdf_day.loc[:,'a':'f'].plot()"
   ]
  },
  {
   "cell_type": "markdown",
   "metadata": {},
   "source": [
    "In principle, markets don't move when they are closed so we should be able to just concatenate the time-course data. But let's do a quick comparison between 1) general price moves, 2) overnight price moves, and 3) weekend price moves"
   ]
  },
  {
   "cell_type": "code",
   "execution_count": 12,
   "metadata": {
    "collapsed": true
   },
   "outputs": [],
   "source": [
    "df_diff=logdf[['day']+plist].diff(1)\n",
    "normdiff=df_diff[df_diff['day']==0][plist]\n",
    "daydiff=df_diff[df_diff['day']==1][plist]\n",
    "enddiff=df_diff[df_diff['day']>1][plist]"
   ]
  },
  {
   "cell_type": "code",
   "execution_count": 13,
   "metadata": {},
   "outputs": [
    {
     "data": {
      "image/png": "[encoded data removed]",
      "text/plain": [
       "<matplotlib.figure.Figure at 0x1fb7157e0b8>"
      ]
     },
     "metadata": {},
     "output_type": "display_data"
    },
    {
     "data": {
      "image/png": "[encoded data removed]",
      "text/plain": [
       "<matplotlib.figure.Figure at 0x1fb73a19ba8>"
      ]
     },
     "metadata": {},
     "output_type": "display_data"
    },
    {
     "data": {
      "image/png": "[encoded data removed]",
      "text/plain": [
       "<matplotlib.figure.Figure at 0x1fb71e72080>"
      ]
     },
     "metadata": {},
     "output_type": "display_data"
    }
   ],
   "source": [
    "normdiff[normdiff['c']>-0.6].hist(bins=40);plt.show() #exclude massive mid-day drop in price of $c$\n",
    "daydiff.hist(bins=40);plt.show()\n",
    "enddiff.hist(bins=30);plt.show()"
   ]
  },
  {
   "cell_type": "markdown",
   "metadata": {},
   "source": [
    "We see that for the most part between all the data sets, although daily price moves are quite different from overnight price moves, overnight and weekend price moves aren't all that different from each other. We can quantify this with p-values of the Kolmogorov-Smirnov 2-sample test, which is a bit more powerful than a paired t-test: it captures shape differences in the distribution and not just a single summary statistic. We observe that differences between minute moves and overnight as well as weekend moves are significant (except for $f$), while differences between overnight and weekend moves are not statistically significant. This is good: we don't have to worry about differentiating between overnight and weekend moves"
   ]
  },
  {
   "cell_type": "code",
   "execution_count": 14,
   "metadata": {},
   "outputs": [
    {
     "name": "stdout",
     "output_type": "stream",
     "text": [
      "Likelihood that minute and overnight moves drawn from same dist:\n",
      "a    2.504041e-48\n",
      "b    2.618265e-12\n",
      "c    3.341174e-41\n",
      "d    4.360172e-28\n",
      "e    1.444428e-35\n",
      "f    1.000000e+00\n",
      "Name: 1, dtype: float64\n",
      "Likelihood that minute and weekend moves drawn from same dist:\n",
      "a    8.146079e-10\n",
      "b    4.911529e-03\n",
      "c    3.121738e-10\n",
      "d    2.044906e-09\n",
      "e    2.041272e-09\n",
      "f    1.000000e+00\n",
      "Name: 1, dtype: float64\n",
      "Likelihood that overnight and weekend moves drawn from same dist:\n",
      "a    0.206434\n",
      "b    0.513888\n",
      "c    0.380714\n",
      "d    0.367135\n",
      "e    0.764701\n",
      "f    1.000000\n",
      "Name: 1, dtype: float64\n"
     ]
    }
   ],
   "source": [
    "ks_normday=pd.DataFrame(np.zeros([2,len(plist)]),columns=plist)\n",
    "ks_normend=pd.DataFrame(np.zeros([2,len(plist)]),columns=plist)\n",
    "ks_dayend=pd.DataFrame(np.zeros([2,len(plist)]),columns=plist)\n",
    "for ii in plist:\n",
    "    ks_normday[ii]=sp.stats.ks_2samp(normdiff[ii],daydiff[ii])\n",
    "    ks_normend[ii]=sp.stats.ks_2samp(normdiff[ii],enddiff[ii])\n",
    "    ks_dayend[ii]=sp.stats.ks_2samp(daydiff[ii],enddiff[ii])\n",
    "print('Likelihood that minute and overnight moves drawn from same dist:')\n",
    "print(ks_normday.iloc[1,:])\n",
    "print('Likelihood that minute and weekend moves drawn from same dist:')\n",
    "print(ks_normend.iloc[1,:])\n",
    "print('Likelihood that overnight and weekend moves drawn from same dist:')\n",
    "print(ks_dayend.iloc[1,:])"
   ]
  },
  {
   "cell_type": "markdown",
   "metadata": {},
   "source": [
    "This particular dataset which has averaged over the daily price moves is easy to compute the monthly log returns. We take a month to be 21 business days long and ignore weekends. Although in principle we could do windowed averages in accordance with days instead of business days, since the prices don't move when markets aren't open we go with the assumption that all market dynamics are properly captured by opening and closing of "
   ]
  },
  {
   "cell_type": "code",
   "execution_count": null,
   "metadata": {
    "collapsed": true
   },
   "outputs": [],
   "source": []
  },
  {
   "cell_type": "markdown",
   "metadata": {},
   "source": [
    "Now, to make predictions on monthly volatility there are a few basic considerations: different time windows to compute monthly volatility (utilizing a simple brownian walk model  $\\sigma_{T} = \\sigma_{t} \\sqrt{T / t}$ to project into longer time windows -- in principle this could be extended to a broader class of walks with memory (Levy, fractional Brownian), but that would turn this exercise into a more extensive project); and memory functions of varying time-scales when regressing on past data.\n",
    "\n",
    "For the purposes of this exercise, if we are really interested in statistics on monthly log returns in that we are interested in the statistics on returns after holding an asset for a month, then we should be computing monthly log returns and examining the statistics. In my opinion, inferring from models should be utilized primarily to 1) validate assumptions or if 2) data are not available.\n",
    "\n",
    "To this end, we create dataframes of monthly log returns: $r_m(t) = \\log R_m(t) = \\log p(t+t_m) - \\log p(t)$. We use statistics within a day to calculate the monthly sample std of that day:\n",
    "$$\\sigma_m(t) = \\sqrt{\\displaystyle \\frac{1}{t_d} \\left[\\sum_{j=0}^{t_d} \\left(r_m(t+j) -\n",
    "\\frac{1}{t_d+1} \\sum_{i=0}^{t_d} r_m(t+i)\\right) \\right]^2} $$\n",
    "\n",
    "The inherent assumption here now is that volatility moves, but should take its statistics over a windowed time period over which it does not change substantially. To check this, we then plot $\\sigma_m(t)$ under our window, ensuring that 1) the idea of a reasonable stable volatility within a windowed time frame is reasonable and 2) we have the statistical power to capture this idea."
   ]
  },
  {
   "cell_type": "code",
   "execution_count": 15,
   "metadata": {},
   "outputs": [
    {
     "data": {
      "text/plain": [
       "<matplotlib.axes._subplots.AxesSubplot at 0x1fb71727a20>"
      ]
     },
     "execution_count": 15,
     "metadata": {},
     "output_type": "execute_result"
    },
    {
     "data": {
      "image/png": "[encoded data removed]",
      "text/plain": [
       "<matplotlib.figure.Figure at 0x1fb71ef47f0>"
      ]
     },
     "metadata": {},
     "output_type": "display_data"
    }
   ],
   "source": [
    "df.plot(x='day',y='a',kind='scatter')"
   ]
  },
  {
   "cell_type": "code",
   "execution_count": 16,
   "metadata": {},
   "outputs": [
    {
     "data": {
      "text/html": [
       "<div>\n",
       "<style>\n",
       "    .dataframe thead tr:only-child th {\n",
       "        text-align: right;\n",
       "    }\n",
       "\n",
       "    .dataframe thead th {\n",
       "        text-align: left;\n",
       "    }\n",
       "\n",
       "    .dataframe tbody tr th {\n",
       "        vertical-align: top;\n",
       "    }\n",
       "</style>\n",
       "<table border=\"1\" class=\"dataframe\">\n",
       "  <thead>\n",
       "    <tr style=\"text-align: right;\">\n",
       "      <th></th>\n",
       "      <th>day</th>\n",
       "      <th>timestr</th>\n",
       "      <th>a</th>\n",
       "      <th>b</th>\n",
       "      <th>c</th>\n",
       "      <th>d</th>\n",
       "      <th>e</th>\n",
       "      <th>f</th>\n",
       "    </tr>\n",
       "  </thead>\n",
       "  <tbody>\n",
       "    <tr>\n",
       "      <th>97110</th>\n",
       "      <td>359</td>\n",
       "      <td>14:52:00</td>\n",
       "      <td>408.150</td>\n",
       "      <td>5.565</td>\n",
       "      <td>46.065</td>\n",
       "      <td>46.365</td>\n",
       "      <td>42.13</td>\n",
       "      <td>10.895</td>\n",
       "    </tr>\n",
       "    <tr>\n",
       "      <th>97111</th>\n",
       "      <td>359</td>\n",
       "      <td>14:53:00</td>\n",
       "      <td>408.180</td>\n",
       "      <td>5.465</td>\n",
       "      <td>46.080</td>\n",
       "      <td>46.355</td>\n",
       "      <td>42.09</td>\n",
       "      <td>10.895</td>\n",
       "    </tr>\n",
       "    <tr>\n",
       "      <th>97112</th>\n",
       "      <td>359</td>\n",
       "      <td>14:54:00</td>\n",
       "      <td>408.035</td>\n",
       "      <td>5.465</td>\n",
       "      <td>46.060</td>\n",
       "      <td>46.345</td>\n",
       "      <td>42.11</td>\n",
       "      <td>10.895</td>\n",
       "    </tr>\n",
       "    <tr>\n",
       "      <th>97113</th>\n",
       "      <td>359</td>\n",
       "      <td>14:55:00</td>\n",
       "      <td>408.095</td>\n",
       "      <td>5.465</td>\n",
       "      <td>46.075</td>\n",
       "      <td>46.355</td>\n",
       "      <td>42.06</td>\n",
       "      <td>10.895</td>\n",
       "    </tr>\n",
       "    <tr>\n",
       "      <th>97114</th>\n",
       "      <td>359</td>\n",
       "      <td>14:56:00</td>\n",
       "      <td>408.065</td>\n",
       "      <td>5.565</td>\n",
       "      <td>46.057</td>\n",
       "      <td>46.345</td>\n",
       "      <td>42.06</td>\n",
       "      <td>10.895</td>\n",
       "    </tr>\n",
       "    <tr>\n",
       "      <th>97115</th>\n",
       "      <td>359</td>\n",
       "      <td>14:57:00</td>\n",
       "      <td>408.140</td>\n",
       "      <td>5.565</td>\n",
       "      <td>46.055</td>\n",
       "      <td>46.345</td>\n",
       "      <td>42.02</td>\n",
       "      <td>10.895</td>\n",
       "    </tr>\n",
       "    <tr>\n",
       "      <th>97116</th>\n",
       "      <td>359</td>\n",
       "      <td>14:58:00</td>\n",
       "      <td>408.010</td>\n",
       "      <td>5.565</td>\n",
       "      <td>46.025</td>\n",
       "      <td>46.325</td>\n",
       "      <td>41.94</td>\n",
       "      <td>10.895</td>\n",
       "    </tr>\n",
       "    <tr>\n",
       "      <th>97117</th>\n",
       "      <td>359</td>\n",
       "      <td>14:59:00</td>\n",
       "      <td>408.085</td>\n",
       "      <td>5.455</td>\n",
       "      <td>46.028</td>\n",
       "      <td>46.325</td>\n",
       "      <td>41.98</td>\n",
       "      <td>10.895</td>\n",
       "    </tr>\n",
       "    <tr>\n",
       "      <th>97118</th>\n",
       "      <td>359</td>\n",
       "      <td>15:00:00</td>\n",
       "      <td>408.250</td>\n",
       "      <td>5.465</td>\n",
       "      <td>46.063</td>\n",
       "      <td>46.325</td>\n",
       "      <td>41.95</td>\n",
       "      <td>10.895</td>\n",
       "    </tr>\n",
       "    <tr>\n",
       "      <th>97119</th>\n",
       "      <td>359</td>\n",
       "      <td>15:01:00</td>\n",
       "      <td>408.080</td>\n",
       "      <td>5.465</td>\n",
       "      <td>46.030</td>\n",
       "      <td>46.315</td>\n",
       "      <td>41.95</td>\n",
       "      <td>10.895</td>\n",
       "    </tr>\n",
       "    <tr>\n",
       "      <th>97120</th>\n",
       "      <td>359</td>\n",
       "      <td>15:02:00</td>\n",
       "      <td>408.115</td>\n",
       "      <td>5.465</td>\n",
       "      <td>46.025</td>\n",
       "      <td>46.305</td>\n",
       "      <td>41.92</td>\n",
       "      <td>10.895</td>\n",
       "    </tr>\n",
       "    <tr>\n",
       "      <th>97121</th>\n",
       "      <td>359</td>\n",
       "      <td>15:03:00</td>\n",
       "      <td>408.160</td>\n",
       "      <td>5.455</td>\n",
       "      <td>46.047</td>\n",
       "      <td>46.315</td>\n",
       "      <td>41.88</td>\n",
       "      <td>10.895</td>\n",
       "    </tr>\n",
       "    <tr>\n",
       "      <th>97122</th>\n",
       "      <td>359</td>\n",
       "      <td>15:04:00</td>\n",
       "      <td>408.145</td>\n",
       "      <td>5.555</td>\n",
       "      <td>46.053</td>\n",
       "      <td>46.325</td>\n",
       "      <td>41.88</td>\n",
       "      <td>10.895</td>\n",
       "    </tr>\n",
       "    <tr>\n",
       "      <th>97123</th>\n",
       "      <td>359</td>\n",
       "      <td>15:05:00</td>\n",
       "      <td>408.195</td>\n",
       "      <td>5.455</td>\n",
       "      <td>46.055</td>\n",
       "      <td>46.325</td>\n",
       "      <td>41.86</td>\n",
       "      <td>10.895</td>\n",
       "    </tr>\n",
       "    <tr>\n",
       "      <th>97124</th>\n",
       "      <td>359</td>\n",
       "      <td>15:06:00</td>\n",
       "      <td>408.245</td>\n",
       "      <td>5.455</td>\n",
       "      <td>46.063</td>\n",
       "      <td>46.345</td>\n",
       "      <td>41.87</td>\n",
       "      <td>10.895</td>\n",
       "    </tr>\n",
       "    <tr>\n",
       "      <th>97125</th>\n",
       "      <td>359</td>\n",
       "      <td>15:07:00</td>\n",
       "      <td>408.275</td>\n",
       "      <td>5.465</td>\n",
       "      <td>46.065</td>\n",
       "      <td>46.365</td>\n",
       "      <td>41.89</td>\n",
       "      <td>10.895</td>\n",
       "    </tr>\n",
       "    <tr>\n",
       "      <th>97126</th>\n",
       "      <td>359</td>\n",
       "      <td>15:08:00</td>\n",
       "      <td>408.280</td>\n",
       "      <td>5.555</td>\n",
       "      <td>46.047</td>\n",
       "      <td>50.335</td>\n",
       "      <td>41.93</td>\n",
       "      <td>10.895</td>\n",
       "    </tr>\n",
       "    <tr>\n",
       "      <th>97127</th>\n",
       "      <td>359</td>\n",
       "      <td>15:09:00</td>\n",
       "      <td>408.270</td>\n",
       "      <td>5.565</td>\n",
       "      <td>46.017</td>\n",
       "      <td>46.335</td>\n",
       "      <td>41.90</td>\n",
       "      <td>10.895</td>\n",
       "    </tr>\n",
       "    <tr>\n",
       "      <th>97128</th>\n",
       "      <td>359</td>\n",
       "      <td>15:10:00</td>\n",
       "      <td>408.325</td>\n",
       "      <td>5.565</td>\n",
       "      <td>46.025</td>\n",
       "      <td>46.345</td>\n",
       "      <td>41.85</td>\n",
       "      <td>10.895</td>\n",
       "    </tr>\n",
       "    <tr>\n",
       "      <th>97129</th>\n",
       "      <td>359</td>\n",
       "      <td>15:11:00</td>\n",
       "      <td>408.330</td>\n",
       "      <td>5.465</td>\n",
       "      <td>46.020</td>\n",
       "      <td>46.335</td>\n",
       "      <td>41.89</td>\n",
       "      <td>10.895</td>\n",
       "    </tr>\n",
       "    <tr>\n",
       "      <th>97130</th>\n",
       "      <td>359</td>\n",
       "      <td>15:12:00</td>\n",
       "      <td>408.365</td>\n",
       "      <td>5.565</td>\n",
       "      <td>46.023</td>\n",
       "      <td>46.335</td>\n",
       "      <td>41.90</td>\n",
       "      <td>10.895</td>\n",
       "    </tr>\n",
       "    <tr>\n",
       "      <th>97131</th>\n",
       "      <td>359</td>\n",
       "      <td>15:13:00</td>\n",
       "      <td>408.335</td>\n",
       "      <td>5.555</td>\n",
       "      <td>46.028</td>\n",
       "      <td>46.335</td>\n",
       "      <td>41.92</td>\n",
       "      <td>10.895</td>\n",
       "    </tr>\n",
       "    <tr>\n",
       "      <th>97132</th>\n",
       "      <td>359</td>\n",
       "      <td>15:14:00</td>\n",
       "      <td>408.330</td>\n",
       "      <td>5.555</td>\n",
       "      <td>46.002</td>\n",
       "      <td>46.315</td>\n",
       "      <td>41.96</td>\n",
       "      <td>10.895</td>\n",
       "    </tr>\n",
       "    <tr>\n",
       "      <th>97133</th>\n",
       "      <td>359</td>\n",
       "      <td>15:15:00</td>\n",
       "      <td>408.365</td>\n",
       "      <td>5.455</td>\n",
       "      <td>45.983</td>\n",
       "      <td>46.315</td>\n",
       "      <td>41.97</td>\n",
       "      <td>10.895</td>\n",
       "    </tr>\n",
       "    <tr>\n",
       "      <th>97134</th>\n",
       "      <td>359</td>\n",
       "      <td>15:16:00</td>\n",
       "      <td>408.210</td>\n",
       "      <td>5.545</td>\n",
       "      <td>45.983</td>\n",
       "      <td>46.305</td>\n",
       "      <td>42.03</td>\n",
       "      <td>10.895</td>\n",
       "    </tr>\n",
       "    <tr>\n",
       "      <th>97135</th>\n",
       "      <td>359</td>\n",
       "      <td>15:17:00</td>\n",
       "      <td>408.255</td>\n",
       "      <td>5.545</td>\n",
       "      <td>45.990</td>\n",
       "      <td>47.950</td>\n",
       "      <td>42.07</td>\n",
       "      <td>10.895</td>\n",
       "    </tr>\n",
       "    <tr>\n",
       "      <th>97136</th>\n",
       "      <td>359</td>\n",
       "      <td>15:18:00</td>\n",
       "      <td>408.265</td>\n",
       "      <td>5.555</td>\n",
       "      <td>46.005</td>\n",
       "      <td>46.305</td>\n",
       "      <td>42.01</td>\n",
       "      <td>10.895</td>\n",
       "    </tr>\n",
       "    <tr>\n",
       "      <th>97137</th>\n",
       "      <td>359</td>\n",
       "      <td>15:19:00</td>\n",
       "      <td>408.290</td>\n",
       "      <td>5.545</td>\n",
       "      <td>46.002</td>\n",
       "      <td>46.305</td>\n",
       "      <td>42.00</td>\n",
       "      <td>NaN</td>\n",
       "    </tr>\n",
       "    <tr>\n",
       "      <th>97138</th>\n",
       "      <td>359</td>\n",
       "      <td>15:20:00</td>\n",
       "      <td>408.255</td>\n",
       "      <td>5.545</td>\n",
       "      <td>45.987</td>\n",
       "      <td>46.285</td>\n",
       "      <td>41.98</td>\n",
       "      <td>NaN</td>\n",
       "    </tr>\n",
       "    <tr>\n",
       "      <th>97139</th>\n",
       "      <td>359</td>\n",
       "      <td>15:21:00</td>\n",
       "      <td>408.235</td>\n",
       "      <td>5.455</td>\n",
       "      <td>45.968</td>\n",
       "      <td>46.295</td>\n",
       "      <td>42.05</td>\n",
       "      <td>NaN</td>\n",
       "    </tr>\n",
       "    <tr>\n",
       "      <th>...</th>\n",
       "      <td>...</td>\n",
       "      <td>...</td>\n",
       "      <td>...</td>\n",
       "      <td>...</td>\n",
       "      <td>...</td>\n",
       "      <td>...</td>\n",
       "      <td>...</td>\n",
       "      <td>...</td>\n",
       "    </tr>\n",
       "    <tr>\n",
       "      <th>97293</th>\n",
       "      <td>360</td>\n",
       "      <td>11:24:00</td>\n",
       "      <td>405.160</td>\n",
       "      <td>5.385</td>\n",
       "      <td>44.870</td>\n",
       "      <td>45.685</td>\n",
       "      <td>42.85</td>\n",
       "      <td>NaN</td>\n",
       "    </tr>\n",
       "    <tr>\n",
       "      <th>97294</th>\n",
       "      <td>360</td>\n",
       "      <td>11:25:00</td>\n",
       "      <td>405.115</td>\n",
       "      <td>5.285</td>\n",
       "      <td>44.865</td>\n",
       "      <td>45.670</td>\n",
       "      <td>42.90</td>\n",
       "      <td>NaN</td>\n",
       "    </tr>\n",
       "    <tr>\n",
       "      <th>97295</th>\n",
       "      <td>360</td>\n",
       "      <td>11:26:00</td>\n",
       "      <td>405.270</td>\n",
       "      <td>5.385</td>\n",
       "      <td>44.855</td>\n",
       "      <td>45.675</td>\n",
       "      <td>42.94</td>\n",
       "      <td>NaN</td>\n",
       "    </tr>\n",
       "    <tr>\n",
       "      <th>97296</th>\n",
       "      <td>360</td>\n",
       "      <td>11:27:00</td>\n",
       "      <td>405.335</td>\n",
       "      <td>5.275</td>\n",
       "      <td>44.845</td>\n",
       "      <td>45.645</td>\n",
       "      <td>42.95</td>\n",
       "      <td>NaN</td>\n",
       "    </tr>\n",
       "    <tr>\n",
       "      <th>97297</th>\n",
       "      <td>360</td>\n",
       "      <td>11:28:00</td>\n",
       "      <td>405.360</td>\n",
       "      <td>5.275</td>\n",
       "      <td>44.845</td>\n",
       "      <td>45.670</td>\n",
       "      <td>42.96</td>\n",
       "      <td>NaN</td>\n",
       "    </tr>\n",
       "    <tr>\n",
       "      <th>97298</th>\n",
       "      <td>360</td>\n",
       "      <td>11:29:00</td>\n",
       "      <td>405.310</td>\n",
       "      <td>5.385</td>\n",
       "      <td>44.858</td>\n",
       "      <td>45.675</td>\n",
       "      <td>42.92</td>\n",
       "      <td>NaN</td>\n",
       "    </tr>\n",
       "    <tr>\n",
       "      <th>97299</th>\n",
       "      <td>360</td>\n",
       "      <td>11:30:00</td>\n",
       "      <td>405.030</td>\n",
       "      <td>5.275</td>\n",
       "      <td>44.785</td>\n",
       "      <td>45.615</td>\n",
       "      <td>42.93</td>\n",
       "      <td>NaN</td>\n",
       "    </tr>\n",
       "    <tr>\n",
       "      <th>97300</th>\n",
       "      <td>360</td>\n",
       "      <td>11:31:00</td>\n",
       "      <td>404.995</td>\n",
       "      <td>5.375</td>\n",
       "      <td>44.790</td>\n",
       "      <td>45.635</td>\n",
       "      <td>42.92</td>\n",
       "      <td>NaN</td>\n",
       "    </tr>\n",
       "    <tr>\n",
       "      <th>97301</th>\n",
       "      <td>360</td>\n",
       "      <td>11:32:00</td>\n",
       "      <td>405.025</td>\n",
       "      <td>5.375</td>\n",
       "      <td>44.785</td>\n",
       "      <td>45.645</td>\n",
       "      <td>42.98</td>\n",
       "      <td>NaN</td>\n",
       "    </tr>\n",
       "    <tr>\n",
       "      <th>97302</th>\n",
       "      <td>360</td>\n",
       "      <td>11:33:00</td>\n",
       "      <td>405.055</td>\n",
       "      <td>5.375</td>\n",
       "      <td>44.720</td>\n",
       "      <td>45.625</td>\n",
       "      <td>42.92</td>\n",
       "      <td>NaN</td>\n",
       "    </tr>\n",
       "    <tr>\n",
       "      <th>97303</th>\n",
       "      <td>360</td>\n",
       "      <td>11:34:00</td>\n",
       "      <td>404.765</td>\n",
       "      <td>5.265</td>\n",
       "      <td>44.593</td>\n",
       "      <td>45.555</td>\n",
       "      <td>42.87</td>\n",
       "      <td>NaN</td>\n",
       "    </tr>\n",
       "    <tr>\n",
       "      <th>97304</th>\n",
       "      <td>360</td>\n",
       "      <td>11:35:00</td>\n",
       "      <td>404.890</td>\n",
       "      <td>5.355</td>\n",
       "      <td>44.667</td>\n",
       "      <td>45.565</td>\n",
       "      <td>42.87</td>\n",
       "      <td>NaN</td>\n",
       "    </tr>\n",
       "    <tr>\n",
       "      <th>97305</th>\n",
       "      <td>360</td>\n",
       "      <td>11:36:00</td>\n",
       "      <td>404.855</td>\n",
       "      <td>5.265</td>\n",
       "      <td>44.718</td>\n",
       "      <td>45.585</td>\n",
       "      <td>42.86</td>\n",
       "      <td>NaN</td>\n",
       "    </tr>\n",
       "    <tr>\n",
       "      <th>97306</th>\n",
       "      <td>360</td>\n",
       "      <td>11:37:00</td>\n",
       "      <td>404.615</td>\n",
       "      <td>5.255</td>\n",
       "      <td>44.650</td>\n",
       "      <td>45.525</td>\n",
       "      <td>42.86</td>\n",
       "      <td>NaN</td>\n",
       "    </tr>\n",
       "    <tr>\n",
       "      <th>97307</th>\n",
       "      <td>360</td>\n",
       "      <td>11:38:00</td>\n",
       "      <td>404.685</td>\n",
       "      <td>5.355</td>\n",
       "      <td>44.675</td>\n",
       "      <td>45.555</td>\n",
       "      <td>42.86</td>\n",
       "      <td>NaN</td>\n",
       "    </tr>\n",
       "    <tr>\n",
       "      <th>97308</th>\n",
       "      <td>360</td>\n",
       "      <td>11:39:00</td>\n",
       "      <td>404.675</td>\n",
       "      <td>5.255</td>\n",
       "      <td>44.667</td>\n",
       "      <td>45.555</td>\n",
       "      <td>42.91</td>\n",
       "      <td>NaN</td>\n",
       "    </tr>\n",
       "    <tr>\n",
       "      <th>97309</th>\n",
       "      <td>360</td>\n",
       "      <td>11:40:00</td>\n",
       "      <td>404.670</td>\n",
       "      <td>5.255</td>\n",
       "      <td>44.685</td>\n",
       "      <td>45.555</td>\n",
       "      <td>42.97</td>\n",
       "      <td>NaN</td>\n",
       "    </tr>\n",
       "    <tr>\n",
       "      <th>97310</th>\n",
       "      <td>360</td>\n",
       "      <td>11:41:00</td>\n",
       "      <td>404.750</td>\n",
       "      <td>5.255</td>\n",
       "      <td>44.748</td>\n",
       "      <td>45.575</td>\n",
       "      <td>43.01</td>\n",
       "      <td>NaN</td>\n",
       "    </tr>\n",
       "    <tr>\n",
       "      <th>97311</th>\n",
       "      <td>360</td>\n",
       "      <td>11:42:00</td>\n",
       "      <td>404.690</td>\n",
       "      <td>5.355</td>\n",
       "      <td>44.708</td>\n",
       "      <td>45.545</td>\n",
       "      <td>43.06</td>\n",
       "      <td>NaN</td>\n",
       "    </tr>\n",
       "    <tr>\n",
       "      <th>97312</th>\n",
       "      <td>360</td>\n",
       "      <td>11:43:00</td>\n",
       "      <td>404.695</td>\n",
       "      <td>5.245</td>\n",
       "      <td>44.688</td>\n",
       "      <td>49.263</td>\n",
       "      <td>43.09</td>\n",
       "      <td>NaN</td>\n",
       "    </tr>\n",
       "    <tr>\n",
       "      <th>97313</th>\n",
       "      <td>360</td>\n",
       "      <td>11:44:00</td>\n",
       "      <td>404.675</td>\n",
       "      <td>5.245</td>\n",
       "      <td>44.703</td>\n",
       "      <td>45.515</td>\n",
       "      <td>43.11</td>\n",
       "      <td>NaN</td>\n",
       "    </tr>\n",
       "    <tr>\n",
       "      <th>97314</th>\n",
       "      <td>360</td>\n",
       "      <td>11:45:00</td>\n",
       "      <td>404.575</td>\n",
       "      <td>5.245</td>\n",
       "      <td>44.663</td>\n",
       "      <td>45.515</td>\n",
       "      <td>43.20</td>\n",
       "      <td>NaN</td>\n",
       "    </tr>\n",
       "    <tr>\n",
       "      <th>97315</th>\n",
       "      <td>360</td>\n",
       "      <td>11:46:00</td>\n",
       "      <td>404.610</td>\n",
       "      <td>5.255</td>\n",
       "      <td>44.663</td>\n",
       "      <td>45.505</td>\n",
       "      <td>43.18</td>\n",
       "      <td>NaN</td>\n",
       "    </tr>\n",
       "    <tr>\n",
       "      <th>97316</th>\n",
       "      <td>360</td>\n",
       "      <td>11:47:00</td>\n",
       "      <td>404.680</td>\n",
       "      <td>5.255</td>\n",
       "      <td>44.688</td>\n",
       "      <td>45.540</td>\n",
       "      <td>43.11</td>\n",
       "      <td>NaN</td>\n",
       "    </tr>\n",
       "    <tr>\n",
       "      <th>97317</th>\n",
       "      <td>360</td>\n",
       "      <td>11:48:00</td>\n",
       "      <td>404.575</td>\n",
       "      <td>5.355</td>\n",
       "      <td>44.685</td>\n",
       "      <td>45.565</td>\n",
       "      <td>43.12</td>\n",
       "      <td>NaN</td>\n",
       "    </tr>\n",
       "    <tr>\n",
       "      <th>97318</th>\n",
       "      <td>360</td>\n",
       "      <td>11:49:00</td>\n",
       "      <td>404.550</td>\n",
       "      <td>5.365</td>\n",
       "      <td>44.750</td>\n",
       "      <td>45.585</td>\n",
       "      <td>43.11</td>\n",
       "      <td>NaN</td>\n",
       "    </tr>\n",
       "    <tr>\n",
       "      <th>97319</th>\n",
       "      <td>360</td>\n",
       "      <td>11:50:00</td>\n",
       "      <td>404.770</td>\n",
       "      <td>5.265</td>\n",
       "      <td>44.767</td>\n",
       "      <td>45.570</td>\n",
       "      <td>43.14</td>\n",
       "      <td>NaN</td>\n",
       "    </tr>\n",
       "    <tr>\n",
       "      <th>97320</th>\n",
       "      <td>360</td>\n",
       "      <td>11:51:00</td>\n",
       "      <td>404.700</td>\n",
       "      <td>5.265</td>\n",
       "      <td>44.770</td>\n",
       "      <td>45.600</td>\n",
       "      <td>43.14</td>\n",
       "      <td>NaN</td>\n",
       "    </tr>\n",
       "    <tr>\n",
       "      <th>97321</th>\n",
       "      <td>360</td>\n",
       "      <td>11:52:00</td>\n",
       "      <td>404.755</td>\n",
       "      <td>5.265</td>\n",
       "      <td>44.750</td>\n",
       "      <td>45.605</td>\n",
       "      <td>43.10</td>\n",
       "      <td>NaN</td>\n",
       "    </tr>\n",
       "    <tr>\n",
       "      <th>97322</th>\n",
       "      <td>360</td>\n",
       "      <td>11:53:00</td>\n",
       "      <td>404.750</td>\n",
       "      <td>5.365</td>\n",
       "      <td>44.765</td>\n",
       "      <td>45.585</td>\n",
       "      <td>43.16</td>\n",
       "      <td>10.475</td>\n",
       "    </tr>\n",
       "  </tbody>\n",
       "</table>\n",
       "<p>213 rows × 8 columns</p>\n",
       "</div>"
      ],
      "text/plain": [
       "       day   timestr        a      b       c       d      e       f\n",
       "97110  359  14:52:00  408.150  5.565  46.065  46.365  42.13  10.895\n",
       "97111  359  14:53:00  408.180  5.465  46.080  46.355  42.09  10.895\n",
       "97112  359  14:54:00  408.035  5.465  46.060  46.345  42.11  10.895\n",
       "97113  359  14:55:00  408.095  5.465  46.075  46.355  42.06  10.895\n",
       "97114  359  14:56:00  408.065  5.565  46.057  46.345  42.06  10.895\n",
       "97115  359  14:57:00  408.140  5.565  46.055  46.345  42.02  10.895\n",
       "97116  359  14:58:00  408.010  5.565  46.025  46.325  41.94  10.895\n",
       "97117  359  14:59:00  408.085  5.455  46.028  46.325  41.98  10.895\n",
       "97118  359  15:00:00  408.250  5.465  46.063  46.325  41.95  10.895\n",
       "97119  359  15:01:00  408.080  5.465  46.030  46.315  41.95  10.895\n",
       "97120  359  15:02:00  408.115  5.465  46.025  46.305  41.92  10.895\n",
       "97121  359  15:03:00  408.160  5.455  46.047  46.315  41.88  10.895\n",
       "97122  359  15:04:00  408.145  5.555  46.053  46.325  41.88  10.895\n",
       "97123  359  15:05:00  408.195  5.455  46.055  46.325  41.86  10.895\n",
       "97124  359  15:06:00  408.245  5.455  46.063  46.345  41.87  10.895\n",
       "97125  359  15:07:00  408.275  5.465  46.065  46.365  41.89  10.895\n",
       "97126  359  15:08:00  408.280  5.555  46.047  50.335  41.93  10.895\n",
       "97127  359  15:09:00  408.270  5.565  46.017  46.335  41.90  10.895\n",
       "97128  359  15:10:00  408.325  5.565  46.025  46.345  41.85  10.895\n",
       "97129  359  15:11:00  408.330  5.465  46.020  46.335  41.89  10.895\n",
       "97130  359  15:12:00  408.365  5.565  46.023  46.335  41.90  10.895\n",
       "97131  359  15:13:00  408.335  5.555  46.028  46.335  41.92  10.895\n",
       "97132  359  15:14:00  408.330  5.555  46.002  46.315  41.96  10.895\n",
       "97133  359  15:15:00  408.365  5.455  45.983  46.315  41.97  10.895\n",
       "97134  359  15:16:00  408.210  5.545  45.983  46.305  42.03  10.895\n",
       "97135  359  15:17:00  408.255  5.545  45.990  47.950  42.07  10.895\n",
       "97136  359  15:18:00  408.265  5.555  46.005  46.305  42.01  10.895\n",
       "97137  359  15:19:00  408.290  5.545  46.002  46.305  42.00     NaN\n",
       "97138  359  15:20:00  408.255  5.545  45.987  46.285  41.98     NaN\n",
       "97139  359  15:21:00  408.235  5.455  45.968  46.295  42.05     NaN\n",
       "...    ...       ...      ...    ...     ...     ...    ...     ...\n",
       "97293  360  11:24:00  405.160  5.385  44.870  45.685  42.85     NaN\n",
       "97294  360  11:25:00  405.115  5.285  44.865  45.670  42.90     NaN\n",
       "97295  360  11:26:00  405.270  5.385  44.855  45.675  42.94     NaN\n",
       "97296  360  11:27:00  405.335  5.275  44.845  45.645  42.95     NaN\n",
       "97297  360  11:28:00  405.360  5.275  44.845  45.670  42.96     NaN\n",
       "97298  360  11:29:00  405.310  5.385  44.858  45.675  42.92     NaN\n",
       "97299  360  11:30:00  405.030  5.275  44.785  45.615  42.93     NaN\n",
       "97300  360  11:31:00  404.995  5.375  44.790  45.635  42.92     NaN\n",
       "97301  360  11:32:00  405.025  5.375  44.785  45.645  42.98     NaN\n",
       "97302  360  11:33:00  405.055  5.375  44.720  45.625  42.92     NaN\n",
       "97303  360  11:34:00  404.765  5.265  44.593  45.555  42.87     NaN\n",
       "97304  360  11:35:00  404.890  5.355  44.667  45.565  42.87     NaN\n",
       "97305  360  11:36:00  404.855  5.265  44.718  45.585  42.86     NaN\n",
       "97306  360  11:37:00  404.615  5.255  44.650  45.525  42.86     NaN\n",
       "97307  360  11:38:00  404.685  5.355  44.675  45.555  42.86     NaN\n",
       "97308  360  11:39:00  404.675  5.255  44.667  45.555  42.91     NaN\n",
       "97309  360  11:40:00  404.670  5.255  44.685  45.555  42.97     NaN\n",
       "97310  360  11:41:00  404.750  5.255  44.748  45.575  43.01     NaN\n",
       "97311  360  11:42:00  404.690  5.355  44.708  45.545  43.06     NaN\n",
       "97312  360  11:43:00  404.695  5.245  44.688  49.263  43.09     NaN\n",
       "97313  360  11:44:00  404.675  5.245  44.703  45.515  43.11     NaN\n",
       "97314  360  11:45:00  404.575  5.245  44.663  45.515  43.20     NaN\n",
       "97315  360  11:46:00  404.610  5.255  44.663  45.505  43.18     NaN\n",
       "97316  360  11:47:00  404.680  5.255  44.688  45.540  43.11     NaN\n",
       "97317  360  11:48:00  404.575  5.355  44.685  45.565  43.12     NaN\n",
       "97318  360  11:49:00  404.550  5.365  44.750  45.585  43.11     NaN\n",
       "97319  360  11:50:00  404.770  5.265  44.767  45.570  43.14     NaN\n",
       "97320  360  11:51:00  404.700  5.265  44.770  45.600  43.14     NaN\n",
       "97321  360  11:52:00  404.755  5.265  44.750  45.605  43.10     NaN\n",
       "97322  360  11:53:00  404.750  5.365  44.765  45.585  43.16  10.475\n",
       "\n",
       "[213 rows x 8 columns]"
      ]
     },
     "execution_count": 16,
     "metadata": {},
     "output_type": "execute_result"
    }
   ],
   "source": [
    "df_clean[df_clean['f'].isnull()]['f']\n",
    "df_clean.iloc[97110:97323]"
   ]
  },
  {
   "cell_type": "code",
   "execution_count": 17,
   "metadata": {},
   "outputs": [
    {
     "data": {
      "text/plain": [
       "['a', 'b', 'c', 'd', 'e', 'f']"
      ]
     },
     "execution_count": 17,
     "metadata": {},
     "output_type": "execute_result"
    }
   ],
   "source": [
    "list('abcdef')"
   ]
  },
  {
   "cell_type": "markdown",
   "metadata": {},
   "source": [
    "In our time series forecasting, we will test 1) univariate approaches as well as 2) multivariate approaches, in case there is cross-correlation between data sets. It seems likely, given that $a$ and $d$ in particular show spurious values at the same time points."
   ]
  }
 ],
 "metadata": {
  "anaconda-cloud": {},
  "kernelspec": {
   "display_name": "Python [conda root]",
   "language": "python",
   "name": "conda-root-py"
  },
  "language_info": {
   "codemirror_mode": {
    "name": "ipython",
    "version": 3
   },
   "file_extension": ".py",
   "mimetype": "text/x-python",
   "name": "python",
   "nbconvert_exporter": "python",
   "pygments_lexer": "ipython3",
   "version": "3.5.4"
  }
 },
 "nbformat": 4,
 "nbformat_minor": 1
}
